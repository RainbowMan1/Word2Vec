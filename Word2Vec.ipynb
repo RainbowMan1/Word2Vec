{
 "cells": [
  {
   "cell_type": "code",
   "execution_count": null,
   "metadata": {
    "id": "SJ0JzXynC9AY"
   },
   "outputs": [],
   "source": [
    "import tensorflow as tf\n",
    "import numpy as np\n",
    "import pandas as pd\n",
    "import io\n",
    "from scipy import spatial"
   ]
  },
  {
   "cell_type": "code",
   "execution_count": null,
   "metadata": {
    "id": "BZxrqqlyFtcF"
   },
   "outputs": [],
   "source": [
    "f = open(\"text8\", \"r\")\n",
    "x = f.read()\n",
    "f.close()"
   ]
  },
  {
   "cell_type": "code",
   "execution_count": null,
   "metadata": {
    "id": "DSlY68efdC3e"
   },
   "outputs": [],
   "source": [
    "tokens = np.array(x.split())\n",
    "del x"
   ]
  },
  {
   "cell_type": "code",
   "execution_count": null,
   "metadata": {
    "colab": {
     "base_uri": "https://localhost:8080/"
    },
    "id": "b6CX2If2CWQ4",
    "outputId": "86fb4b00-052b-4209-9250-f90b35730259"
   },
   "outputs": [
    {
     "name": "stdout",
     "output_type": "stream",
     "text": [
      "30001\n"
     ]
    }
   ],
   "source": [
    "from collections import Counter\n",
    "\n",
    "count = Counter(tokens)\n",
    "vocab, index = {}, 1 # start indexing from 1\n",
    "vocab[0] = \"<UNK>\"\n",
    "for token in sorted(count, key = count.get, reverse = True):\n",
    "  if token not in vocab: \n",
    "    vocab[token] = index\n",
    "    index += 1\n",
    "  if index > 30000:\n",
    "    break\n",
    "vocab_size = len(vocab)\n",
    "print(vocab_size)"
   ]
  },
  {
   "cell_type": "code",
   "execution_count": null,
   "metadata": {
    "id": "liShx73vCW5x"
   },
   "outputs": [],
   "source": [
    "inverse_vocab = {index: token for token, index in vocab.items()}"
   ]
  },
  {
   "cell_type": "code",
   "execution_count": null,
   "metadata": {
    "colab": {
     "base_uri": "https://localhost:8080/"
    },
    "id": "Ql86qljtLy4U",
    "outputId": "d56bbf4c-7953-44fd-db36-c5f38cc91fb5"
   },
   "outputs": [
    {
     "name": "stdout",
     "output_type": "stream",
     "text": [
      "[33, 11, 1, 3680]\n"
     ]
    }
   ],
   "source": [
    "example = 'this is the worst'.split()\n",
    "example_sequence = [vocab[word] for word in example]\n",
    "print(example_sequence)"
   ]
  },
  {
   "cell_type": "code",
   "execution_count": null,
   "metadata": {
    "id": "z20G5tcEf8N8"
   },
   "outputs": [],
   "source": [
    "def generate_training_data(tokens, window_size, vocab_size, batch_size):\n",
    "  target_batch = np.zeros(batch_size)\n",
    "  context_batch = np.zeros(shape = (batch_size, 1, vocab_size))\n",
    "  batch_pointer = 0\n",
    "  while True:  \n",
    "    for i in range(0,len(tokens)):\n",
    "      k = i - window_size\n",
    "      while k <= i + window_size:\n",
    "        if k < 0 or k >= len(tokens) or k == i:\n",
    "          k+=1\n",
    "          continue\n",
    "        context = np.zeros(vocab_size)\n",
    "        if tokens[k] in vocab:\n",
    "          context[vocab[tokens[k]]] = 1\n",
    "        else:\n",
    "          context[0] = 1\n",
    "        if tokens[i] in vocab:\n",
    "          target_batch[batch_pointer] = vocab[tokens[i]]\n",
    "        else:\n",
    "          target_batch[batch_pointer] = 0\n",
    "        context_batch[batch_pointer] = context\n",
    "        batch_pointer+=1\n",
    "        k+=1\n",
    "        if batch_pointer == batch_size:\n",
    "          batch_pointer = 0\n",
    "          # print(target_batch.shape)\n",
    "          # print(context_batch.shape)\n",
    "          yield target_batch,context_batch"
   ]
  },
  {
   "cell_type": "code",
   "execution_count": null,
   "metadata": {
    "id": "4t7cJEj9mr4s"
   },
   "outputs": [],
   "source": [
    "x = generate_training_data(tokens, 2, vocab_size, 1024)"
   ]
  },
  {
   "cell_type": "code",
   "execution_count": null,
   "metadata": {
    "colab": {
     "base_uri": "https://localhost:8080/"
    },
    "id": "3H38X1EwvSeD",
    "outputId": "b4df6b92-217a-45d3-c7d8-1a60e7e80720"
   },
   "outputs": [
    {
     "name": "stdout",
     "output_type": "stream",
     "text": [
      "(1024,)\n",
      "(1024, 1, 30001)\n",
      "[5234. 5234. 3081. ... 4188. 4188. 4188.] [[0 0 0 ... 0 0 0]\n",
      " [0 0 0 ... 0 0 0]\n",
      " [0 0 0 ... 0 0 0]\n",
      " ...\n",
      " [0 0 0 ... 0 0 0]\n",
      " [0 0 0 ... 0 0 0]\n",
      " [0 0 0 ... 0 0 0]]\n"
     ]
    }
   ],
   "source": [
    "sample =next(x)\n",
    "print(sample[0], np.argmax(sample[1], axis=1))"
   ]
  },
  {
   "cell_type": "code",
   "execution_count": null,
   "metadata": {
    "id": "VUUKlQgs7kGj"
   },
   "outputs": [],
   "source": [
    "embedding_dim = 500\n",
    "bsize = 2000\n",
    "model = tf.keras.Sequential()"
   ]
  },
  {
   "cell_type": "code",
   "execution_count": null,
   "metadata": {
    "id": "zMuo_jQ_7k_A"
   },
   "outputs": [],
   "source": [
    "model.add(tf.keras.layers.Input(shape=(1),dtype='int32'))"
   ]
  },
  {
   "cell_type": "code",
   "execution_count": null,
   "metadata": {
    "id": "DWCmQVNW-1ta"
   },
   "outputs": [],
   "source": [
    "model.add(tf.keras.layers.Embedding(vocab_size, embedding_dim,input_length=1,name=\"w2v_embedding\"))"
   ]
  },
  {
   "cell_type": "code",
   "execution_count": null,
   "metadata": {
    "id": "rc-BcRBUCOjg"
   },
   "outputs": [],
   "source": [
    "model.add(tf.keras.layers.Dense(vocab_size, activation='softmax', use_bias=False))"
   ]
  },
  {
   "cell_type": "code",
   "execution_count": null,
   "metadata": {
    "colab": {
     "base_uri": "https://localhost:8080/",
     "height": 312
    },
    "id": "RzPiDiN_DeWb",
    "outputId": "7ed13f7e-d38f-4167-ce6a-46ee94af6bdc"
   },
   "outputs": [
    {
     "data": {
      "image/png": "[encoded data removed]",
      "text/plain": [
       "<IPython.core.display.Image object>"
      ]
     },
     "execution_count": 90,
     "metadata": {
      "tags": []
     },
     "output_type": "execute_result"
    }
   ],
   "source": [
    "tf.keras.utils.plot_model(model, show_shapes=True, show_dtype=True,show_layer_names=True)"
   ]
  },
  {
   "cell_type": "code",
   "execution_count": null,
   "metadata": {
    "id": "uXIVuV5zE8u4"
   },
   "outputs": [],
   "source": [
    "model.compile(optimizer=tf.keras.optimizers.Adam(learning_rate=0.001),\n",
    "              loss=tf.keras.losses.CategoricalCrossentropy(),\n",
    "              metrics=['accuracy'])"
   ]
  },
  {
   "cell_type": "code",
   "execution_count": null,
   "metadata": {
    "id": "DKalaFDw-3Q8"
   },
   "outputs": [],
   "source": [
    "def scheduler(epoch, lr):\n",
    "  return (epoch * -0.000001944990176817289 + 0.001)"
   ]
  },
  {
   "cell_type": "code",
   "execution_count": null,
   "metadata": {
    "id": "f1jazGRp_tHp"
   },
   "outputs": [],
   "source": [
    "lsch = tf.keras.callbacks.LearningRateScheduler(scheduler, verbose=1)"
   ]
  },
  {
   "cell_type": "code",
   "execution_count": null,
   "metadata": {
    "colab": {
     "base_uri": "https://localhost:8080/",
     "height": 1000
    },
    "id": "m2e7eWKYFJ0T",
    "outputId": "ef198ead-fbe3-4dd2-c98f-adbae021e83c"
   },
   "outputs": [],
   "source": [
    "model.fit(generate_training_data(tokens, 2, vocab_size, bsize), steps_per_epoch=1000, epochs=50, batch_size = bsize, callbacks=[lsch])"
   ]
  },
  {
   "cell_type": "code",
   "execution_count": null,
   "metadata": {
    "id": "s98QYU8EnMZG"
   },
   "outputs": [],
   "source": [
    "weights = model.get_layer('w2v_embedding').get_weights()[0]"
   ]
  },
  {
   "cell_type": "code",
   "execution_count": null,
   "metadata": {
    "id": "lmw0gVDMFQPS"
   },
   "outputs": [],
   "source": [
    "out_v = io.open('vectors.tsv', 'w', encoding='utf-8')\n",
    "out_m = io.open('metadata.tsv', 'w', encoding='utf-8')\n",
    "\n",
    "for index, word in enumerate(vocab):\n",
    "  if  index == 0: continue # skip 0, it's padding.\n",
    "  vec = weights[index] \n",
    "  out_v.write('\\t'.join([str(x) for x in vec]) + \"\\n\")\n",
    "  out_m.write(word + \"\\n\")\n",
    "out_v.close()\n",
    "out_m.close()"
   ]
  },
  {
   "cell_type": "code",
   "execution_count": null,
   "metadata": {
    "colab": {
     "base_uri": "https://localhost:8080/",
     "height": 17
    },
    "id": "o4ASJ3rpnPdL",
    "outputId": "754f28ee-5b04-42c6-f362-11018323ec80"
   },
   "outputs": [
    {
     "data": {
      "application/javascript": [
       "\n",
       "    async function download(id, filename, size) {\n",
       "      if (!google.colab.kernel.accessAllowed) {\n",
       "        return;\n",
       "      }\n",
       "      const div = document.createElement('div');\n",
       "      const label = document.createElement('label');\n",
       "      label.textContent = `Downloading \"${filename}\": `;\n",
       "      div.appendChild(label);\n",
       "      const progress = document.createElement('progress');\n",
       "      progress.max = size;\n",
       "      div.appendChild(progress);\n",
       "      document.body.appendChild(div);\n",
       "\n",
       "      const buffers = [];\n",
       "      let downloaded = 0;\n",
       "\n",
       "      const channel = await google.colab.kernel.comms.open(id);\n",
       "      // Send a message to notify the kernel that we're ready.\n",
       "      channel.send({})\n",
       "\n",
       "      for await (const message of channel.messages) {\n",
       "        // Send a message to notify the kernel that we're ready.\n",
       "        channel.send({})\n",
       "        if (message.buffers) {\n",
       "          for (const buffer of message.buffers) {\n",
       "            buffers.push(buffer);\n",
       "            downloaded += buffer.byteLength;\n",
       "            progress.value = downloaded;\n",
       "          }\n",
       "        }\n",
       "      }\n",
       "      const blob = new Blob(buffers, {type: 'application/binary'});\n",
       "      const a = document.createElement('a');\n",
       "      a.href = window.URL.createObjectURL(blob);\n",
       "      a.download = filename;\n",
       "      div.appendChild(a);\n",
       "      a.click();\n",
       "      div.remove();\n",
       "    }\n",
       "  "
      ],
      "text/plain": [
       "<IPython.core.display.Javascript object>"
      ]
     },
     "metadata": {
      "tags": []
     },
     "output_type": "display_data"
    },
    {
     "data": {
      "application/javascript": [
       "download(\"download_eaa3104d-a47a-4d78-979a-1fd9e11324f2\", \"vectors.tsv\", 180252069)"
      ],
      "text/plain": [
       "<IPython.core.display.Javascript object>"
      ]
     },
     "metadata": {
      "tags": []
     },
     "output_type": "display_data"
    },
    {
     "data": {
      "application/javascript": [
       "\n",
       "    async function download(id, filename, size) {\n",
       "      if (!google.colab.kernel.accessAllowed) {\n",
       "        return;\n",
       "      }\n",
       "      const div = document.createElement('div');\n",
       "      const label = document.createElement('label');\n",
       "      label.textContent = `Downloading \"${filename}\": `;\n",
       "      div.appendChild(label);\n",
       "      const progress = document.createElement('progress');\n",
       "      progress.max = size;\n",
       "      div.appendChild(progress);\n",
       "      document.body.appendChild(div);\n",
       "\n",
       "      const buffers = [];\n",
       "      let downloaded = 0;\n",
       "\n",
       "      const channel = await google.colab.kernel.comms.open(id);\n",
       "      // Send a message to notify the kernel that we're ready.\n",
       "      channel.send({})\n",
       "\n",
       "      for await (const message of channel.messages) {\n",
       "        // Send a message to notify the kernel that we're ready.\n",
       "        channel.send({})\n",
       "        if (message.buffers) {\n",
       "          for (const buffer of message.buffers) {\n",
       "            buffers.push(buffer);\n",
       "            downloaded += buffer.byteLength;\n",
       "            progress.value = downloaded;\n",
       "          }\n",
       "        }\n",
       "      }\n",
       "      const blob = new Blob(buffers, {type: 'application/binary'});\n",
       "      const a = document.createElement('a');\n",
       "      a.href = window.URL.createObjectURL(blob);\n",
       "      a.download = filename;\n",
       "      div.appendChild(a);\n",
       "      a.click();\n",
       "      div.remove();\n",
       "    }\n",
       "  "
      ],
      "text/plain": [
       "<IPython.core.display.Javascript object>"
      ]
     },
     "metadata": {
      "tags": []
     },
     "output_type": "display_data"
    },
    {
     "data": {
      "application/javascript": [
       "download(\"download_39f7a549-ec63-4f38-83d2-ee55825d60ad\", \"metadata.tsv\", 247994)"
      ],
      "text/plain": [
       "<IPython.core.display.Javascript object>"
      ]
     },
     "metadata": {
      "tags": []
     },
     "output_type": "display_data"
    }
   ],
   "source": [
    "try:\n",
    "  from google.colab import files\n",
    "  files.download('vectors.tsv')\n",
    "  files.download('metadata.tsv')\n",
    "except Exception as e:\n",
    "  pass"
   ]
  },
  {
   "cell_type": "code",
   "execution_count": null,
   "metadata": {
    "id": "tsA_gP07nQzs"
   },
   "outputs": [],
   "source": [
    "new = weights[vocab['sings']]-weights[vocab['sing']]+weights[vocab['provide']]"
   ]
  },
  {
   "cell_type": "code",
   "execution_count": null,
   "metadata": {
    "id": "O90bJBVXoVLp"
   },
   "outputs": [],
   "source": [
    "top = {}\n",
    "for i in range(len(weights)):\n",
    "  top[i] = 1 - spatial.distance.cosine(new, weights[i])"
   ]
  },
  {
   "cell_type": "code",
   "execution_count": null,
   "metadata": {
    "id": "vzwjIg_no18b"
   },
   "outputs": [],
   "source": [
    "top = sorted(top, key = top.get,reverse=True)"
   ]
  },
  {
   "cell_type": "code",
   "execution_count": null,
   "metadata": {
    "colab": {
     "base_uri": "https://localhost:8080/"
    },
    "id": "vKBZuWtwpi2h",
    "outputId": "56bc1a9b-ffd6-42e6-ba7a-a64cc8c11833"
   },
   "outputs": [
    {
     "data": {
      "text/plain": [
       "['provide',\n",
       " 'provides',\n",
       " 'provided',\n",
       " 'offer',\n",
       " 'supplementary',\n",
       " 'require',\n",
       " 'providing',\n",
       " 'offers',\n",
       " 'generating',\n",
       " 'generate',\n",
       " 'necessitating',\n",
       " 'regulates',\n",
       " 'connectivity',\n",
       " 'identifier',\n",
       " 'implement',\n",
       " 'allow',\n",
       " 'utilizing',\n",
       " 'maintains',\n",
       " 'requires',\n",
       " 'implementing',\n",
       " 'modelling',\n",
       " 'framework',\n",
       " 'enables',\n",
       " 'supports',\n",
       " 'permits']"
      ]
     },
     "execution_count": 129,
     "metadata": {
      "tags": []
     },
     "output_type": "execute_result"
    }
   ],
   "source": [
    "[inverse_vocab[i] for i in top[:25]]"
   ]
  },
  {
   "cell_type": "code",
   "execution_count": null,
   "metadata": {
    "colab": {
     "base_uri": "https://localhost:8080/"
    },
    "id": "4tFBWmLSpua2",
    "outputId": "97f8918a-b6c8-4f50-886f-1d94a3616560"
   },
   "outputs": [
    {
     "data": {
      "text/plain": [
       "18961"
      ]
     },
     "execution_count": 51,
     "metadata": {
      "tags": []
     },
     "output_type": "execute_result"
    }
   ],
   "source": [
    "vocab['kathmandu']"
   ]
  },
  {
   "cell_type": "code",
   "execution_count": null,
   "metadata": {
    "id": "ULfkK7EOeYDW"
   },
   "outputs": [],
   "source": []
  }
 ],
 "metadata": {
  "accelerator": "GPU",
  "colab": {
   "name": "Word2Vec",
   "provenance": []
  },
  "kernelspec": {
   "display_name": "Python 3",
   "language": "python",
   "name": "python3"
  },
  "language_info": {
   "codemirror_mode": {
    "name": "ipython",
    "version": 3
   },
   "file_extension": ".py",
   "mimetype": "text/x-python",
   "name": "python",
   "nbconvert_exporter": "python",
   "pygments_lexer": "ipython3",
   "version": "3.7.9"
  }
 },
 "nbformat": 4,
 "nbformat_minor": 1
}
